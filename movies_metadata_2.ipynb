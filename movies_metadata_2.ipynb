{
 "cells": [
  {
   "cell_type": "code",
   "execution_count": 2,
   "metadata": {},
   "outputs": [],
   "source": [
    "import pandas as pd"
   ]
  },
  {
   "cell_type": "code",
   "execution_count": 3,
   "metadata": {},
   "outputs": [],
   "source": [
    "df = pd.read_csv('movies_metadata.csv',encoding='latin-1')"
   ]
  },
  {
   "cell_type": "code",
   "execution_count": 4,
   "metadata": {},
   "outputs": [
    {
     "name": "stdout",
     "output_type": "stream",
     "text": [
      "<class 'pandas.core.frame.DataFrame'>\n",
      "RangeIndex: 50 entries, 0 to 49\n",
      "Data columns (total 24 columns):\n",
      "adult                    50 non-null bool\n",
      "belongs_to_collection    10 non-null object\n",
      "budget                   50 non-null int64\n",
      "genres                   50 non-null object\n",
      "homepage                 5 non-null object\n",
      "id                       50 non-null int64\n",
      "imdb_id                  50 non-null object\n",
      "original_language        50 non-null object\n",
      "original_title           50 non-null object\n",
      "overview                 49 non-null object\n",
      "popularity               50 non-null object\n",
      "poster_path              50 non-null object\n",
      "production_companies     50 non-null object\n",
      "production_countries     50 non-null object\n",
      "release_date             50 non-null object\n",
      "revenue                  50 non-null object\n",
      "runtime                  50 non-null int64\n",
      "spoken_languages         50 non-null object\n",
      "status                   50 non-null object\n",
      "tagline                  41 non-null object\n",
      "title                    50 non-null object\n",
      "video                    50 non-null object\n",
      "vote_average             50 non-null object\n",
      "vote_count               50 non-null float64\n",
      "dtypes: bool(1), float64(1), int64(3), object(19)\n",
      "memory usage: 9.1+ KB\n"
     ]
    }
   ],
   "source": [
    "df.info()"
   ]
  },
  {
   "cell_type": "code",
   "execution_count": 5,
   "metadata": {},
   "outputs": [
    {
     "data": {
      "text/plain": [
       "adult                                                                False\n",
       "belongs_to_collection    {'id': 119050, 'name': 'Grumpy Old Men Collect...\n",
       "budget                                                                   0\n",
       "genres                   [{'id': 10749, 'name': 'Romance'}, {'id': 35, ...\n",
       "homepage                                                               NaN\n",
       "id                                                                   15602\n",
       "imdb_id                                                          tt0113228\n",
       "original_language                                                       en\n",
       "original_title                                            Grumpier Old Men\n",
       "overview                 A family wedding reignites the ancient feud be...\n",
       "popularity                                                         11.7129\n",
       "poster_path                               /6ksm1sjKMFLbO7UY2i6G1ju9SML.jpg\n",
       "production_companies     [{'name': 'Warner Bros.', 'id': 6194}, {'name'...\n",
       "production_countries     [{'iso_3166_1': 'US', 'name': 'United States o...\n",
       "release_date                                                    12/22/1995\n",
       "revenue                                                                  0\n",
       "runtime                                                                101\n",
       "spoken_languages                  [{'iso_639_1': 'en', 'name': 'English'}]\n",
       "status                                                            Released\n",
       "tagline                  Still Yelling. Still Fighting. Still Ready for...\n",
       "title                                                     Grumpier Old Men\n",
       "video                                                                FALSE\n",
       "vote_average                                                           6.5\n",
       "vote_count                                                              92\n",
       "Name: 2, dtype: object"
      ]
     },
     "execution_count": 5,
     "metadata": {},
     "output_type": "execute_result"
    }
   ],
   "source": [
    "#-- GETTING DETAILS OF 3RD MOVIES IN THE DATAFRAME\n",
    "\n",
    "df.iloc[2]"
   ]
  },
  {
   "cell_type": "code",
   "execution_count": 6,
   "metadata": {},
   "outputs": [
    {
     "name": "stdout",
     "output_type": "stream",
     "text": [
      "columns = 24\n",
      "Rows = 50\n"
     ]
    }
   ],
   "source": [
    "#-- COUNT ROWS AND COLUMNS IN THE DATAFRAME\n",
    "\n",
    "#df.shape\n",
    "\n",
    "col = df.shape[1]\n",
    "rows = df.shape[0]\n",
    "print('columns = %d' %col)\n",
    "print('Rows = %d' %rows)"
   ]
  }
 ],
 "metadata": {
  "kernelspec": {
   "display_name": "Python 3",
   "language": "python",
   "name": "python3"
  },
  "language_info": {
   "codemirror_mode": {
    "name": "ipython",
    "version": 3
   },
   "file_extension": ".py",
   "mimetype": "text/x-python",
   "name": "python",
   "nbconvert_exporter": "python",
   "pygments_lexer": "ipython3",
   "version": "3.7.3"
  }
 },
 "nbformat": 4,
 "nbformat_minor": 2
}
