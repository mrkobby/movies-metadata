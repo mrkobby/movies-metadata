{
 "cells": [
  {
   "cell_type": "code",
   "execution_count": 3,
   "metadata": {},
   "outputs": [],
   "source": [
    "import pandas as pd"
   ]
  },
  {
   "cell_type": "code",
   "execution_count": 33,
   "metadata": {},
   "outputs": [],
   "source": [
    "df = pd.read_csv('movies_metadata.csv',encoding='latin-1')"
   ]
  },
  {
   "cell_type": "code",
   "execution_count": 32,
   "metadata": {},
   "outputs": [
    {
     "data": {
      "text/plain": [
       "['adult',\n",
       " 'belongs_to_collection',\n",
       " 'budget',\n",
       " 'genres',\n",
       " 'homepage',\n",
       " 'id',\n",
       " 'imdb_id',\n",
       " 'original_language',\n",
       " 'original_title',\n",
       " 'overview',\n",
       " 'popularity',\n",
       " 'poster_path',\n",
       " 'production_companies',\n",
       " 'production_countries',\n",
       " 'release_date',\n",
       " 'revenue',\n",
       " 'runtime',\n",
       " 'spoken_languages',\n",
       " 'status',\n",
       " 'tagline',\n",
       " 'title',\n",
       " 'video',\n",
       " 'vote_average',\n",
       " 'vote_count']"
      ]
     },
     "execution_count": 32,
     "metadata": {},
     "output_type": "execute_result"
    }
   ],
   "source": [
    "#-- GETTING COLUMN NAMES\n",
    "\n",
    "list(df.columns.values)"
   ]
  },
  {
   "cell_type": "code",
   "execution_count": 34,
   "metadata": {},
   "outputs": [
    {
     "name": "stdout",
     "output_type": "stream",
     "text": [
      "<class 'pandas.core.frame.DataFrame'>\n",
      "RangeIndex: 50 entries, 0 to 49\n",
      "Data columns (total 24 columns):\n",
      "adult                    50 non-null bool\n",
      "belongs_to_collection    10 non-null object\n",
      "budget                   50 non-null int64\n",
      "genres                   50 non-null object\n",
      "homepage                 5 non-null object\n",
      "id                       50 non-null int64\n",
      "imdb_id                  50 non-null object\n",
      "original_language        50 non-null object\n",
      "original_title           50 non-null object\n",
      "overview                 49 non-null object\n",
      "popularity               50 non-null object\n",
      "poster_path              50 non-null object\n",
      "production_companies     50 non-null object\n",
      "production_countries     50 non-null object\n",
      "release_date             50 non-null object\n",
      "revenue                  50 non-null object\n",
      "runtime                  50 non-null int64\n",
      "spoken_languages         50 non-null object\n",
      "status                   50 non-null object\n",
      "tagline                  41 non-null object\n",
      "title                    50 non-null object\n",
      "video                    50 non-null object\n",
      "vote_average             50 non-null object\n",
      "vote_count               50 non-null float64\n",
      "dtypes: bool(1), float64(1), int64(3), object(19)\n",
      "memory usage: 9.1+ KB\n"
     ]
    }
   ],
   "source": [
    "#-- GETTING COLUMN NAMES\n",
    "df.info()"
   ]
  },
  {
   "cell_type": "code",
   "execution_count": null,
   "metadata": {},
   "outputs": [],
   "source": []
  }
 ],
 "metadata": {
  "kernelspec": {
   "display_name": "Python 3",
   "language": "python",
   "name": "python3"
  },
  "language_info": {
   "codemirror_mode": {
    "name": "ipython",
    "version": 3
   },
   "file_extension": ".py",
   "mimetype": "text/x-python",
   "name": "python",
   "nbconvert_exporter": "python",
   "pygments_lexer": "ipython3",
   "version": "3.7.3"
  }
 },
 "nbformat": 4,
 "nbformat_minor": 2
}
